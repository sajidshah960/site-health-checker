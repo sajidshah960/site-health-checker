{
 "cells": [
  {
   "cell_type": "code",
   "execution_count": 7,
   "metadata": {},
   "outputs": [],
   "source": [
    "import requests\n",
    "import yaml\n",
    "import time\n",
    "import signal\n",
    "from collections import defaultdict\n",
    "import sys"
   ]
  },
  {
   "cell_type": "code",
   "execution_count": 8,
   "metadata": {},
   "outputs": [],
   "source": [
    "# Define a global dictionary to store cumulative availability data across cycles\n",
    "cumulative_availability = defaultdict(lambda: {'total': 0, 'up': 0})\n",
    "\n",
    "# Function to log availability percentages for each domain\n",
    "def log_availability():\n",
    "    global cumulative_availability\n",
    "\n",
    "    # Print availability percentages for each domain\n",
    "    print(\"Availability Percentage:\")\n",
    "    for domain, data in cumulative_availability.items():\n",
    "        if data['total'] == 0:\n",
    "            percentage = 0\n",
    "        else:\n",
    "            percentage = round((data['up'] / data['total']) * 100)\n",
    "        print(f\"{domain} has {percentage}% availability\")\n",
    "    print(\"--------------------------------------------------\")"
   ]
  },
  {
   "cell_type": "code",
   "execution_count": 9,
   "metadata": {},
   "outputs": [],
   "source": [
    "def check_health(endpoints):\n",
    "    global cumulative_availability\n",
    "\n",
    "    availability = defaultdict(lambda: {'total': 0, 'up': 0})\n",
    "    while True:\n",
    "        for endpoint in endpoints:\n",
    "            url = endpoint.get('url')\n",
    "            method = endpoint.get('method', 'GET')\n",
    "            headers = endpoint.get('headers', {})\n",
    "            body = endpoint.get('body', None)\n",
    "\n",
    "            if url:\n",
    "                try:\n",
    "                    if method == 'GET':\n",
    "                        start_time = time.time()\n",
    "                        response = requests.get(url, headers=headers, timeout=5)\n",
    "                    elif method == 'POST':\n",
    "                        if body is None:\n",
    "                            body = {}\n",
    "                        start_time = time.time()\n",
    "                        response = requests.post(url, headers=headers, json=body, timeout=5)\n",
    "                    else:\n",
    "                        raise ValueError('Invalid HTTP method')\n",
    "\n",
    "                    response_time = round((time.time() - start_time) * 1000, 2)  # Calculate response time in milliseconds\n",
    "\n",
    "                    if response.status_code >= 200 and response.status_code < 300:\n",
    "                        response_time_ms = round(response.elapsed.total_seconds() * 1000, 2)\n",
    "                        if response_time_ms <= 1500:\n",
    "                            availability[url]['up'] += 1\n",
    "                        else:\n",
    "                            print(f\"Endpoint {url} - Response Code: {response.status_code}, Response Time: {response_time_ms} ms => DOWN (Response time exceeds 1500ms)\")\n",
    "                    else:\n",
    "                        print(f\"Endpoint {url} - Response Code: {response.status_code} => DOWN (Status code not in range 2xx)\")\n",
    "\n",
    "                    availability[url]['total'] += 1\n",
    "\n",
    "\n",
    "                except requests.RequestException as e:\n",
    "                    print(f\"Request to {url} failed: {e}\")\n",
    "\n",
    "        # Update cumulative availability data across cycles\n",
    "        for url, data in availability.items():\n",
    "            domain = url.split('/')[2]\n",
    "            cumulative_availability[domain]['total'] += data['total']\n",
    "            cumulative_availability[domain]['up'] += data['up']\n",
    "\n",
    "        # Calculate and log availability percentages for each domain after each cycle\n",
    "        log_availability()\n",
    "\n",
    "        # Wait for 15 seconds before starting the next cycle\n",
    "        time.sleep(15)"
   ]
  },
  {
   "cell_type": "code",
   "execution_count": 10,
   "metadata": {},
   "outputs": [],
   "source": [
    "# Read YAML configuration file\n",
    "def read_config(file_path):\n",
    "    try:\n",
    "        with open(file_path, 'r') as file:\n",
    "            return yaml.safe_load(file)\n",
    "    except FileNotFoundError:\n",
    "        print(\"File not found. Please provide a valid YAML configuration file.\")\n",
    "        sys.exit(1)\n",
    "    except yaml.YAMLError as exc:\n",
    "        print(f\"Error in YAML file: {exc}\")\n",
    "        sys.exit(1)"
   ]
  },
  {
   "cell_type": "code",
   "execution_count": 11,
   "metadata": {},
   "outputs": [],
   "source": [
    "# Signal handler for graceful exit\n",
    "def exit_gracefully(signum, frame):\n",
    "    print(\"\\nExiting...\")\n",
    "    sys.exit(0)"
   ]
  },
  {
   "cell_type": "code",
   "execution_count": 12,
   "metadata": {},
   "outputs": [
    {
     "name": "stdout",
     "output_type": "stream",
     "text": [
      "Endpoint https://fetch.com/careers - Response Code: 200, Response Time: 1927.63 ms => DOWN (Response time exceeds 1500ms)\n",
      "Endpoint https://fetch.com/some/post/endpoint - Response Code: 403 => DOWN (Status code not in range 2xx)\n",
      "Endpoint https://www.fetchrewards.com/ - Response Code: 200, Response Time: 2211.44 ms => DOWN (Response time exceeds 1500ms)\n",
      "Availability Percentage:\n",
      "google.com has 100% availability\n",
      "fetch.com has 0% availability\n",
      "www.fetchrewards.com has 0% availability\n",
      "--------------------------------------------------\n",
      "Endpoint https://fetch.com/some/post/endpoint - Response Code: 403 => DOWN (Status code not in range 2xx)\n",
      "Availability Percentage:\n",
      "google.com has 100% availability\n",
      "fetch.com has 17% availability\n",
      "www.fetchrewards.com has 33% availability\n",
      "--------------------------------------------------\n",
      "Endpoint https://fetch.com/careers - Response Code: 200, Response Time: 2251.32 ms => DOWN (Response time exceeds 1500ms)\n",
      "Endpoint https://fetch.com/some/post/endpoint - Response Code: 403 => DOWN (Status code not in range 2xx)\n"
     ]
    }
   ],
   "source": [
    "if __name__ == \"__main__\":\n",
    "    # if len(sys.argv) != 2:\n",
    "    #     print(\"Usage: python health_checker_script.py <config_file.yaml>\")\n",
    "    #     sys.exit(1)\n",
    "\n",
    "    # file_path = sys.argv[1]\n",
    "    endpoints = read_config(\"config.yaml\")\n",
    "\n",
    "    signal.signal(signal.SIGINT, exit_gracefully)\n",
    "\n",
    "    check_health(endpoints)"
   ]
  }
 ],
 "metadata": {
  "kernelspec": {
   "display_name": "base",
   "language": "python",
   "name": "python3"
  },
  "language_info": {
   "codemirror_mode": {
    "name": "ipython",
    "version": 3
   },
   "file_extension": ".py",
   "mimetype": "text/x-python",
   "name": "python",
   "nbconvert_exporter": "python",
   "pygments_lexer": "ipython3",
   "version": "3.11.5"
  }
 },
 "nbformat": 4,
 "nbformat_minor": 2
}
